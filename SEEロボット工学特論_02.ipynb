{
  "nbformat": 4,
  "nbformat_minor": 0,
  "metadata": {
    "colab": {
      "name": "SEEロボット工学特論_02.ipynb",
      "provenance": [],
      "collapsed_sections": [],
      "toc_visible": true,
      "include_colab_link": true
    },
    "kernelspec": {
      "name": "python3",
      "display_name": "Python 3"
    }
  },
  "cells": [
    {
      "cell_type": "markdown",
      "metadata": {
        "id": "view-in-github",
        "colab_type": "text"
      },
      "source": [
        "<a href=\"https://colab.research.google.com/github/kazumichiINOUE/SEE_Robotics/blob/master/SEE%E3%83%AD%E3%83%9C%E3%83%83%E3%83%88%E5%B7%A5%E5%AD%A6%E7%89%B9%E8%AB%96_02.ipynb\" target=\"_parent\"><img src=\"https://colab.research.google.com/assets/colab-badge.svg\" alt=\"Open In Colab\"/></a>"
      ]
    },
    {
      "cell_type": "markdown",
      "metadata": {
        "id": "SFa6GnM3Vypc"
      },
      "source": [
        "# サンプルプログラムの実行\n",
        "\n",
        "このファイルでは，数値解析の講義課題のための練習を行います．\n",
        "\n",
        "別資料「Google Colabによる実験の進め方（以下，手順書）」も参考にしてください．\n",
        "\n",
        "まず初めに， 手順書の3.2 グラフの描き方をやってみましょう．\n",
        "以下の「コード・エリア」に，3．2にあるプログラムをそのまま書いて実行してみてください．\n",
        "テキストのようなグラフが出力されたら成功です．"
      ]
    },
    {
      "cell_type": "code",
      "metadata": {
        "id": "-gnizwmFTZXo"
      },
      "source": [
        "# ここにプログラムを書いてください\n"
      ],
      "execution_count": null,
      "outputs": []
    },
    {
      "cell_type": "markdown",
      "metadata": {
        "id": "DOXz3N92hStC"
      },
      "source": [
        "# 練習問題1\n",
        "次のソースコードは，3項間漸化式\n",
        "\\begin{equation}\n",
        "x_{n+2} + p x_{n+1} + q x_{n} = 0\n",
        "\\end{equation}\n",
        "を計算するものです． 例では，\n",
        "\\begin{equation}\n",
        "x_1 = 2, \\, x_2 = 1, \\, p = -(100 + \\dfrac{1}{2}), \\, q=\\dfrac{100}{2} \n",
        "\\end{equation}\n",
        "です．\n",
        "条件を，\n",
        "\\begin{equation}\n",
        "  x_1 = 3, \\, x_2 = 1 \\, p = -(100 + \\dfrac{1}{3}), \\, q=\\dfrac{100}{3} \n",
        "\\end{equation}\n",
        "とした時に，計算結果がどのようになるか，確認をしてください．\n",
        "ソースコード中の必要な場所を適切に修正をしてください．\n",
        "\n",
        "得られた答えが正しいか，検討してみましょう．\n"
      ]
    },
    {
      "cell_type": "code",
      "metadata": {
        "id": "iv3Kncf0h1FD",
        "outputId": "6a05a963-a563-4534-b735-568bdc3e6bb9",
        "colab": {
          "base_uri": "https://localhost:8080/",
          "height": 323
        }
      },
      "source": [
        "x1 = 2.0    # 初項\n",
        "x2 = 1.0    # 初項\n",
        "for i in range(3, 21):                        # 3~20までの整数値を順に生成\n",
        "  x3 = (100 + 1/2.) * x2 - 100/2. * x1   　# 3項間漸化式\n",
        "  print(i, \"\\t\", x3)                          　　# 結果を画面に出力\n",
        "  x1 = x2           # 次のループの準備\n",
        "  x2 = x3 "
      ],
      "execution_count": null,
      "outputs": [
        {
          "output_type": "stream",
          "text": [
            "3 \t 0.5\n",
            "4 \t 0.25\n",
            "5 \t 0.125\n",
            "6 \t 0.0625\n",
            "7 \t 0.03125\n",
            "8 \t 0.015625\n",
            "9 \t 0.0078125\n",
            "10 \t 0.00390625\n",
            "11 \t 0.001953125\n",
            "12 \t 0.0009765625\n",
            "13 \t 0.00048828125\n",
            "14 \t 0.000244140625\n",
            "15 \t 0.0001220703125\n",
            "16 \t 6.103515625e-05\n",
            "17 \t 3.0517578125e-05\n",
            "18 \t 1.52587890625e-05\n",
            "19 \t 7.62939453125e-06\n",
            "20 \t 3.814697265625e-06\n"
          ],
          "name": "stdout"
        }
      ]
    },
    {
      "cell_type": "markdown",
      "metadata": {
        "id": "l8NxhML-m-uZ"
      },
      "source": [
        "# 練習問題2\n",
        "次のソースコードは，二つの関数を同時にプロットするものです．例では，sin, cos 関数です．\n",
        "ここで，\n",
        "\\begin{equation}\n",
        "  y = 2\\sin{x}, \\quad y = x - 1\n",
        "\\end{equation}\n",
        "の2式をプロットした時のグラフを確認してください．"
      ]
    },
    {
      "cell_type": "code",
      "metadata": {
        "id": "VD5jjXHqneIA",
        "outputId": "4c2427c2-d41b-409a-b805-7324187bf54c",
        "colab": {
          "base_uri": "https://localhost:8080/",
          "height": 265
        }
      },
      "source": [
        "import math\n",
        "import matplotlib.pyplot as plt\n",
        "\n",
        "dx = 0.01   # x軸の刻み幅\n",
        "\n",
        "y1 = []　     # 計算結果を格納する配列\n",
        "y2 = []      # 同上\n",
        "x = []        # x軸の値を格納する配列\n",
        "\n",
        "for i in range(0, (int)(2*math.pi/dx)):　   # 0~2πまでに相当する整数値を生成する\n",
        "  x_value = i * dx  　                    # x値を計算\n",
        "  y1_value = math.sin(x_value)        # y1を計算\n",
        "  y2_value = math.cos(x_value)        # y2を計算\n",
        "  x.append(x_value)                      # x軸の値を配列に追加\n",
        "  y1.append(y1_value)                   # y軸の値を配列に追加\n",
        "  y2.append(y2_value)\n",
        "##### ループここまで\n",
        "\n",
        "plt.plot(x, y1)     # y1をグラフ表示\n",
        "plt.plot(x, y2)     # y2 をグラフ表示\n",
        "plt.grid()　         　# グラフに格子を描く\n",
        "plt.show()         # グラフを画面に出す\n"
      ],
      "execution_count": null,
      "outputs": [
        {
          "output_type": "display_data",
          "data": {
            "image/png": "[encoded data removed]",
            "text/plain": [
              "<Figure size 432x288 with 1 Axes>"
            ]
          },
          "metadata": {
            "tags": [],
            "needs_background": "light"
          }
        }
      ]
    },
    {
      "cell_type": "markdown",
      "metadata": {
        "id": "8eVbpmKFVOYZ"
      },
      "source": [
        "# 今週の検討課題\n"
      ]
    },
    {
      "cell_type": "markdown",
      "metadata": {
        "id": "Usz1cUZLVXG5"
      },
      "source": [
        "# 移動ロボットの運動モデル\n",
        "移動ロボットに，速度指令 $(v, \\omega)$ を与えた時の，タイヤの回転角速度を求めるプログラムを以下に作成してください．ロボットの諸元に関わるパラメータは適当に決めてください．"
      ]
    },
    {
      "cell_type": "code",
      "metadata": {
        "id": "ONfwzYeTVUlW",
        "outputId": "a55eb6bb-466d-4cb7-8f7e-5d53eed92869",
        "colab": {
          "base_uri": "https://localhost:8080/"
        }
      },
      "source": [
        "r = 0.2   # タイヤの半径\n",
        "T = 0.6  # タイヤ間の距離（トレッド）\n",
        "\n",
        "def calcW(v, w):\n",
        "    # ここに計算を書いてください # \n",
        "    \n",
        "    return wr, wl\n",
        "\n",
        "def main():\n",
        "    # 指令値を与える\n",
        "    v = 0.1\n",
        "    w = 0.1\n",
        "    \n",
        "    # wr, wlを計算呼び出し\n",
        "    wr, wl = calcW(v, w)\n",
        "    \n",
        "    print(\"wr:\", wr, \"wl\", wl)\n",
        "\n",
        "main()"
      ],
      "execution_count": 3,
      "outputs": [
        {
          "output_type": "stream",
          "text": [
            "wr: 2.0 wl 3.0\n"
          ],
          "name": "stdout"
        }
      ]
    },
    {
      "cell_type": "markdown",
      "metadata": {
        "id": "CIE9TJSpYP72"
      },
      "source": [
        "# 速度動作モデル\n",
        "速度動作モデルの更新式\n",
        "\\begin{eqnarray}\n",
        "x'  &=& x - \\dfrac{v}{\\omega} \\sin{\\theta} + \\dfrac{v}{w}\\sin{(\\theta + \\omega \\Delta t)}\\\\\n",
        "y'  &=& y + \\dfrac{v}{\\omega} \\sin{\\theta} - \\dfrac{v}{w}\\sin{(\\theta + \\omega \\Delta t)}\\\\\n",
        "\\theta ' &=& \\theta + \\omega \\Delta t\n",
        "\\end{eqnarray}\n",
        "に従って，現在の姿勢と速度指令から$\\Delta t$秒後の姿勢を計算するプログラムを作成してください．\n"
      ]
    },
    {
      "cell_type": "code",
      "metadata": {
        "id": "FIrXU-iwcjwl",
        "outputId": "9421f24b-60ca-4cac-d258-b3df0172538a",
        "colab": {
          "base_uri": "https://localhost:8080/"
        }
      },
      "source": [
        "import math\n",
        "\n",
        "def velocity_motion_model(v, w, x, y, th):\n",
        "    # ここにプログラムを書いてください\n",
        "    # 更新後の姿勢を現す変数は x_, y_, th_ とします\n",
        "    \n",
        "    return x_, y_, th_\n",
        "\n",
        "def main():\n",
        "    # 現在のロボットの姿勢\n",
        "    x = 1.0 \n",
        "    y = 0.0\n",
        "    th = math.pi/2\n",
        "    # 速度指令\n",
        "    v = 1.0\n",
        "    w = 1.0\n",
        "    \n",
        "    x, y, th = velocity_motion_model(v, w, x, y, th)\n",
        "    print(\"x:\", x, \"y:\", y, \"th:\", th)\n",
        "  \n",
        "main()"
      ],
      "execution_count": 7,
      "outputs": [
        {
          "output_type": "stream",
          "text": [
            "x: 2.0 y: 4.0 th: 1.0\n"
          ],
          "name": "stdout"
        }
      ]
    },
    {
      "cell_type": "markdown",
      "metadata": {
        "id": "ed2_w_WqeggV"
      },
      "source": [
        "# オドメトリ動作モデル\n",
        "\n",
        "2つの姿勢$(x_1, y_1, \\theta _1)$， $(x_2, y_2, \\theta _2)$  が与えられた時，オドメトリ指令値をオドメトリ動作モデルの式\n",
        "\\begin{eqnarray}\n",
        "\\delta _{rot1} &=& atan2(y_2 - y_1, x_2 - x_1) - \\theta _1 \\\\\n",
        "\\delta _{trans} &=& \\sqrt{(x_1 - x_2)^2 + (y_1 - y_2)^2}\\\\\n",
        "\\delta _{rot2} &=& \\theta _2 - \\theta _1 - \\delta _{rot1}\n",
        "\\end{eqnarray}\n",
        "から求めるプログラムを書いてください．"
      ]
    },
    {
      "cell_type": "code",
      "metadata": {
        "id": "HVwvrkVhfoGr",
        "outputId": "a291ca42-d8be-4487-abd7-ac56f80f59b1",
        "colab": {
          "base_uri": "https://localhost:8080/"
        }
      },
      "source": [
        "def odometry_motion_model(x1, y1, th1, x2, y2, th2):\n",
        "    # ここにプログラムを書いてください\n",
        "    # オドメトリ指令値は，rot1, trans, rot2 とします\n",
        "    \n",
        "    return rot1, trans, rot2\n",
        "\n",
        "def main():\n",
        "    x1 = 0.0\n",
        "    y1 = 0.0\n",
        "    th1= 0.0\n",
        "\n",
        "    x2 = 1.0\n",
        "    y2 = 1.0\n",
        "    th2= math.pi/4\n",
        "\n",
        "    rot1, trans, rot2 = odometry_motion_model(x1, y1, th1, x2, y2, th2)\n",
        "    print(\"rot1:\", rot1, \"\\t\", \"trans:\", trans, \"\\t\", \"rot2:\", rot2)\n",
        "\n",
        "main()"
      ],
      "execution_count": 11,
      "outputs": [
        {
          "output_type": "stream",
          "text": [
            "rot1: 0.5 \t trans: 0.2 \t rot2: 3.0\n"
          ],
          "name": "stdout"
        }
      ]
    },
    {
      "cell_type": "markdown",
      "metadata": {
        "id": "Vu8_nIoOhe7i"
      },
      "source": [
        "今週の課題は以上です．作成した ipynb ファイルをTeamsの課題から提出してください．\n"
      ]
    }
  ]
}